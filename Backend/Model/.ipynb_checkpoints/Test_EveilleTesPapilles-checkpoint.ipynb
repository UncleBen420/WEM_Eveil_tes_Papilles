{
 "cells": [
  {
   "cell_type": "code",
   "execution_count": 1,
   "metadata": {},
   "outputs": [],
   "source": [
    "from EveilleTesPapilles import EveilleTesPapilles"
   ]
  },
  {
   "cell_type": "code",
   "execution_count": 2,
   "metadata": {},
   "outputs": [
    {
     "name": "stdout",
     "output_type": "stream",
     "text": [
      "***************************\n",
      "Information about the model\n",
      "***************************\n",
      "\n",
      "There are 5 recipe files\n",
      "There are 5523 recipes for entree.jl\n",
      "There are 16907 recipes for plat.jl\n",
      "There are 9719 recipes for dessert.jl\n",
      "There are 1237 recipes for red_wines.jl\n",
      "There are 415 recipes for white_wines.jl\n",
      "There are 2721 ingredients in the dico\n",
      "There are 1276 ingredients in the lemmatizated dico\n"
     ]
    }
   ],
   "source": [
    "recipeFilesName = ['entree.jl','plat.jl','dessert.jl','red_wines.jl','white_wines.jl']\n",
    "modelPath = 'EveilleTesPapilles.word2vec.wordvectors'\n",
    "model = EveilleTesPapilles(modelPath,recipeFilesName)\n",
    "model.info()"
   ]
  },
  {
   "cell_type": "code",
   "execution_count": 3,
   "metadata": {},
   "outputs": [
    {
     "name": "stdout",
     "output_type": "stream",
     "text": [
      "ingredients for the suggestion :  ['spaghetti', 'lapin', 'pois']\n"
     ]
    },
    {
     "data": {
      "text/plain": [
       "['penne', 'encornet', 'calamar', 'macaroni']"
      ]
     },
     "execution_count": 3,
     "metadata": {},
     "output_type": "execute_result"
    }
   ],
   "source": [
    "model.predictSuggestion(['spaghetti','lapin','pois'])"
   ]
  },
  {
   "cell_type": "code",
   "execution_count": 4,
   "metadata": {},
   "outputs": [
    {
     "data": {
      "text/plain": [
       "[('frisee', 0.7368341088294983),\n",
       " ('mesclun', 0.7016503810882568),\n",
       " ('ther', 0.6965082883834839),\n",
       " ('batavia', 0.6784960031509399),\n",
       " ('taboule', 0.6709936261177063),\n",
       " ('thai', 0.6549678444862366),\n",
       " ('grequ', 0.6546722054481506),\n",
       " ('Takuwan', 0.6543117165565491),\n",
       " ('scarole', 0.6525467038154602),\n",
       " ('deshydrater', 0.6462563872337341)]"
      ]
     },
     "execution_count": 4,
     "metadata": {},
     "output_type": "execute_result"
    }
   ],
   "source": [
    "model.wv.most_similar(['roquett'])"
   ]
  },
  {
   "cell_type": "code",
   "execution_count": 5,
   "metadata": {},
   "outputs": [
    {
     "name": "stdout",
     "output_type": "stream",
     "text": [
      "ingredients for the suggestion :  ['viande', 'oignon', 'bouillon', 'boeuf', 'eau', 'viande', 'bouillon', 'tomate', 'carotte', 'ail', 'sel', 'poivre']\n",
      "\n",
      " Boeuf braise aux carottes\n",
      "Couper la viande en morceaux egaux La faire revenir dans une cocotte en fonte, dans laquelle vous avez fait chauffer la matiere grasse Une fois les morceaux revenus de tous les cotes, les retirer et faire revenir les oignons eminces et les lardons Preparer le bouillon de boeuf avec 1/2 litre d'eau Ajouter la viande dans la cocotte, y verser le bouillon, le concentre de tomates, les carottes epluchees et coupees en troncons, l'ail et les herbes Assaisonner avec le sel etle poivre, melanger et laisser mijoter 1h30 a feu doux\n",
      "['celeri', 'courgette', 'potiron', 'fenouil', 'echalote']\n"
     ]
    }
   ],
   "source": [
    "number = 100\n",
    "recipe = model.recipeDta[1][number]['steps']\n",
    "recipename = model.recipeDta[1][number]['title']\n",
    "recipeningredients = model.recipeDta[1][number]['ingredients']\n",
    "ingredient = model.predictIngredient(recipe,'carotte')\n",
    "print(\"\\n\",recipename)\n",
    "print(recipe)\n",
    "print(ingredient)\n",
    "#print(\"\\n\",recipeningredients)\n",
    "\n"
   ]
  },
  {
   "cell_type": "code",
   "execution_count": 6,
   "metadata": {},
   "outputs": [
    {
     "name": "stdout",
     "output_type": "stream",
     "text": [
      "ingredients for the suggestion :  ['carotte', 'oignon', 'poireau', 'pois', 'soja', 'ail', 'escalope', 'poulet', 'eau', 'sel', 'bouillon', 'volaille', 'eau', 'gingembre', 'citronnelle', 'coriandre', 'poulet', 'riz', 'gingembre', 'citronnelle']\n",
      "\n",
      " Bouillon thai au poulet\n",
      "Preparer les legumes, les eplucher et les couper en petits des Faire revenir les carottes, les oignons, les poireaux, les pois plat, les pousses de soja et l'ail (bien hache) Saler, poivrer Ils doivent etre croquants Faire cuire les escalopes de poulet et les couper en petits des Remplir un grand faitout d'eau, mettre du gros sel et les 2 cubes de bouillon de volaille Quand l'eau bout, y verser la sauce soja, la sauce nuoc-mam, le gingembre rape, la citronnelle (selon les gouts), la coriandre ciselee, saler et poivrer Ajouter les legumes et le poulet Pour finir mettre le vermicelle de riz (bien l'emietter) Evidemment les dosages reste a votre appreciation, notamment pour le gingembre, la citronnelle et les sauces\n",
      "['boeuf', 'tofu', 'poivron', 'potiron', 'mangue']\n"
     ]
    }
   ],
   "source": [
    "number = 785\n",
    "recipe = model.recipeDta[1][number]['steps']\n",
    "recipename = model.recipeDta[1][number]['title']\n",
    "recipeningredients = model.recipeDta[1][number]['ingredients']\n",
    "ingredient = model.predictIngredient(recipe,'poulet')\n",
    "print(\"\\n\",recipename)\n",
    "print(recipe)\n",
    "print(ingredient)"
   ]
  },
  {
   "cell_type": "code",
   "execution_count": 7,
   "metadata": {},
   "outputs": [
    {
     "name": "stdout",
     "output_type": "stream",
     "text": [
      "ingredients for the suggestion :  ['jambon', 'pois', 'fromage', 'oeuf', 'maizena', 'eau', 'bouillon', 'jambon', 'fromage', 'soja', 'pois', 'soja', 'maizena', 'bouillon', 'poulet', 'porc', 'sel', 'poulet', 'porc', 'eau', 'bouillon', 'bouillon', 'bouillon', 'poulet', 'canard', 'porc', 'bouillon', 'bouillon', 'eau', 'mais']\n",
      "\n",
      " Soupe au fromage de soja\n",
      "Coupez le jambon en des d'un volume egal a celui des petits pois Coupez le fromage de soja en des de la meme taille; melangez les crevettes avec le blanc d'oeuf Delayez la Maizena dans 2 cuillerees a soupe d'eau Faites bouillir le bouillon, jetez-y le jambon, le fromage de soja et les petits pois; laissez repartir l'ebullition; ajoutez alors la sauce de soja et les crevettes, puis laissez bouillir pendant 15 a 20 secondes Versez la Maizena dans la soupe et remuez jusqu'a ce que l'ensemble epaississe Salez et poivrez; repartissez la soupe dans des bols et servez Pour le bouillon clair Pour 2 litres : - 450 g de morceaux de poulet - 450 g de travers de porc - sel Lavez les morceaux de poulet et le travers de porc; mettez-les dans un faitout avec 2,75 litres d'eau et amenez doucement a ebullition; ecumez Reduisez alors le feu, salez, couvrez partiellement le recipient et laissez fremir pendant 2 h ou jusqu'a ce que le liquide ait reduit d'un tiers Laissez refroidir Lorsque le bouillon est froid, retirez la pellicule de graisse montee a la surface Passez le bouillon dans une passoire fine; versez-le dans un recipient non metallique et mettez-le au refrigerateur; il se conservera ainsi pendant une semaine si vous le faites bouillir tous les deux ou trois jours NB : On obtient un meilleur bouillon en le preparant avec un poulet entier, un canard entier et un jarret de porc cuits a petite ebullition Apres 4 h de cuisson, ou lorsque le bouillon a reduit d'un tiers, on le passe pour eliminer tous les elements solides On peut aussi utiliser un cube de bouillon concentre dissous dans de l'eau bouillante, mais le resultat est moins savoureux\n",
      "['feta', 'thon', 'vin', 'tofu', 'seiche']\n"
     ]
    }
   ],
   "source": [
    "number = 200\n",
    "recipe = model.recipeDta[0][number]['steps']\n",
    "recipename = model.recipeDta[0][number]['title']\n",
    "recipeningredients = model.recipeDta[0][number]['ingredients']\n",
    "ingredient = model.predictIngredient(recipe,'fromage')\n",
    "print(\"\\n\",recipename)\n",
    "print(recipe)\n",
    "print(ingredient)"
   ]
  },
  {
   "cell_type": "code",
   "execution_count": null,
   "metadata": {},
   "outputs": [],
   "source": []
  }
 ],
 "metadata": {
  "interpreter": {
   "hash": "e1ddfa27679766b2719f3df403839b5481cb2d90a84023c88b196e1799e06717"
  },
  "kernelspec": {
   "display_name": "Python 3 (ipykernel)",
   "language": "python",
   "name": "python3"
  },
  "language_info": {
   "codemirror_mode": {
    "name": "ipython",
    "version": 3
   },
   "file_extension": ".py",
   "mimetype": "text/x-python",
   "name": "python",
   "nbconvert_exporter": "python",
   "pygments_lexer": "ipython3",
   "version": "3.8.10"
  }
 },
 "nbformat": 4,
 "nbformat_minor": 4
}
