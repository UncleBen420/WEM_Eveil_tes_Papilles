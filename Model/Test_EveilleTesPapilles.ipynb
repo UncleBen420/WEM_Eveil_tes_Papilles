{
 "cells": [
  {
   "cell_type": "code",
   "execution_count": 1,
   "metadata": {},
   "outputs": [],
   "source": [
    "from EveilleTesPapilles import EveilleTesPapilles"
   ]
  },
  {
   "cell_type": "code",
   "execution_count": 2,
   "metadata": {},
   "outputs": [
    {
     "name": "stdout",
     "output_type": "stream",
     "text": [
      "***************************\n",
      "Information about the model\n",
      "***************************\n",
      "\n",
      "There are 5 recipe files\n",
      "There are 5523 recipes for entree.jl\n",
      "There are 16907 recipes for plat.jl\n",
      "There are 9719 recipes for dessert.jl\n",
      "There are 1237 recipes for red_wines.jl\n",
      "There are 415 recipes for white_wines.jl\n",
      "There are 2721 ingredients in the dico\n",
      "There are 1276 ingredients in the lemmatizated dico\n"
     ]
    }
   ],
   "source": [
    "recipeFilesName = ['entree.jl','plat.jl','dessert.jl','red_wines.jl','white_wines.jl']\n",
    "modelPath = 'EveilleTesPapilles.word2vec.wordvectors'\n",
    "model = EveilleTesPapilles(modelPath,recipeFilesName)\n",
    "model.info()"
   ]
  },
  {
   "cell_type": "code",
   "execution_count": 3,
   "metadata": {},
   "outputs": [
    {
     "data": {
      "text/plain": [
       "['penne', 'encornet', 'calamar', 'macaroni', 'potiron', 'poulpe', 'brocoli']"
      ]
     },
     "execution_count": 3,
     "metadata": {},
     "output_type": "execute_result"
    }
   ],
   "source": [
    "model.predictSuggestion(['spaghetti','lapin','pois'])"
   ]
  },
  {
   "cell_type": "code",
   "execution_count": 4,
   "metadata": {},
   "outputs": [
    {
     "data": {
      "text/plain": [
       "[('frisee', 0.7368340492248535),\n",
       " ('mesclun', 0.7016503810882568),\n",
       " ('ther', 0.6965082287788391),\n",
       " ('batavia', 0.6784959435462952),\n",
       " ('taboule', 0.6709936261177063),\n",
       " ('thai', 0.6549678444862366),\n",
       " ('grequ', 0.6546722054481506),\n",
       " ('Takuwan', 0.6543117165565491),\n",
       " ('scarole', 0.6525467038154602),\n",
       " ('deshydrater', 0.6462563872337341)]"
      ]
     },
     "execution_count": 4,
     "metadata": {},
     "output_type": "execute_result"
    }
   ],
   "source": [
    "model.wv.most_similar(['roquett'])"
   ]
  },
  {
   "cell_type": "code",
   "execution_count": 30,
   "metadata": {},
   "outputs": [
    {
     "name": "stdout",
     "output_type": "stream",
     "text": [
      "Lapin a la moutarde en cocotte en fonte\n",
      "Faire revenir les morceaux de lapin et l'oignon dans la cocotte avec du beurre Pendant ce temps, faire fondre le cube de bouillon dans 50 cl d'eau Une fois les morceaux bien dores, y ajouter les 3 cuilleres a soupe de moutarde a l'ancienne Saupoudrer avec la farine Ajouter les 3 cuilleres a soupe de creme fraiche Verser le bouillon sur la preparation Ajouter les 2 verres de vin blanc Saler, poivrer et y mettre le bouquet garni Laisser mijoter a feu tres doux pendant 2 heures Si vous avez comme moi la chance d'avoir un fourneau, y poser la cocotte et laissez mijoter 3 ou 4h Plus la viande cuira lentement meilleure elle sera En fin de cuisson, si la sauce vous parait trop liquide, diluer 3 cuilleres a cafe de maizena dans un verre d'eau et verser dans la preparation afin de la rendre plus onctueuse\n",
      "['biere', 'miel', 'lait', 'cidre', 'porto', 'rhum', 'armagnac', 'cognac', 'cassonade']\n"
     ]
    }
   ],
   "source": [
    "number = 1200\n",
    "recipe = model.recipeDta[1][number]['steps']\n",
    "recipename = model.recipeDta[1][number]['title']\n",
    "ingredient = model.predictIngredient(recipe,'miel')\n",
    "print(recipename)\n",
    "print(recipe)\n",
    "print(ingredient)\n",
    "\n"
   ]
  },
  {
   "cell_type": "code",
   "execution_count": null,
   "metadata": {},
   "outputs": [],
   "source": [
    "\n"
   ]
  }
 ],
 "metadata": {
  "interpreter": {
   "hash": "e1ddfa27679766b2719f3df403839b5481cb2d90a84023c88b196e1799e06717"
  },
  "kernelspec": {
   "display_name": "Python 3.8.8 ('base')",
   "language": "python",
   "name": "python3"
  },
  "language_info": {
   "codemirror_mode": {
    "name": "ipython",
    "version": 3
   },
   "file_extension": ".py",
   "mimetype": "text/x-python",
   "name": "python",
   "nbconvert_exporter": "python",
   "pygments_lexer": "ipython3",
   "version": "3.8.8"
  },
  "orig_nbformat": 4
 },
 "nbformat": 4,
 "nbformat_minor": 2
}
