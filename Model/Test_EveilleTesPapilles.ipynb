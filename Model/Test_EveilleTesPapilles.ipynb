{
 "cells": [
  {
   "cell_type": "code",
   "execution_count": 1,
   "metadata": {},
   "outputs": [
    {
     "name": "stderr",
     "output_type": "stream",
     "text": [
      "c:\\Users\\doming1p\\kDrive\\Anaconda3\\lib\\site-packages\\gensim\\similarities\\__init__.py:15: UserWarning: The gensim.similarities.levenshtein submodule is disabled, because the optional Levenshtein package <https://pypi.org/project/python-Levenshtein/> is unavailable. Install Levenhstein (e.g. `pip install python-Levenshtein`) to suppress this warning.\n",
      "  warnings.warn(msg)\n"
     ]
    }
   ],
   "source": [
    "from EveilleTesPapilles import EveilleTesPapilles"
   ]
  },
  {
   "cell_type": "code",
   "execution_count": 2,
   "metadata": {},
   "outputs": [],
   "source": [
    "recipeFilesName = ['entree.jl','plat.jl','dessert.jl','red_wines.jl','white_wines.jl']\n",
    "modelPath = 'EveilleTesPapilles.word2vec.wordvectors'\n",
    "model = EveilleTesPapilles(modelPath,recipeFilesName)"
   ]
  },
  {
   "cell_type": "code",
   "execution_count": 3,
   "metadata": {},
   "outputs": [
    {
     "data": {
      "text/plain": [
       "[('feta', 0.6822965145111084),\n",
       " ('fraise', 0.6236710548400879),\n",
       " ('basilic', 0.6041680574417114),\n",
       " ('aneth', 0.5885004997253418),\n",
       " ('crabe', 0.5805357694625854),\n",
       " ('ciboulette', 0.5745723247528076),\n",
       " ('concombre', 0.5738140344619751),\n",
       " ('menthe', 0.557820200920105),\n",
       " ('pesto', 0.5531992316246033),\n",
       " ('avocat', 0.5487391352653503)]"
      ]
     },
     "execution_count": 3,
     "metadata": {},
     "output_type": "execute_result"
    }
   ],
   "source": [
    "model.predictSuggestion(['thon','olive','roquette','tomate'])"
   ]
  },
  {
   "cell_type": "code",
   "execution_count": 4,
   "metadata": {},
   "outputs": [
    {
     "name": "stdout",
     "output_type": "stream",
     "text": [
      "***************************\n",
      "Information about the model\n",
      "***************************\n",
      "\n",
      "There are 5 recipe files\n",
      "There are 5523 recipes for entree.jl\n",
      "There are 16907 recipes for plat.jl\n",
      "There are 9719 recipes for dessert.jl\n",
      "There are 1237 recipes for red_wines.jl\n",
      "There are 415 recipes for white_wines.jl\n",
      "There are 1311 ingredients in the dico\n"
     ]
    }
   ],
   "source": [
    "model.info()"
   ]
  },
  {
   "cell_type": "code",
   "execution_count": null,
   "metadata": {},
   "outputs": [],
   "source": []
  }
 ],
 "metadata": {
  "interpreter": {
   "hash": "e1ddfa27679766b2719f3df403839b5481cb2d90a84023c88b196e1799e06717"
  },
  "kernelspec": {
   "display_name": "Python 3.8.8 ('base')",
   "language": "python",
   "name": "python3"
  },
  "language_info": {
   "codemirror_mode": {
    "name": "ipython",
    "version": 3
   },
   "file_extension": ".py",
   "mimetype": "text/x-python",
   "name": "python",
   "nbconvert_exporter": "python",
   "pygments_lexer": "ipython3",
   "version": "3.8.8"
  },
  "orig_nbformat": 4
 },
 "nbformat": 4,
 "nbformat_minor": 2
}
